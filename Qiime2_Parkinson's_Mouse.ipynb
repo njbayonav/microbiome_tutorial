{
 "cells": [
  {
   "attachments": {},
   "cell_type": "markdown",
   "metadata": {},
   "source": [
    "# Project \"Parkinson's Mouse in Qiime 2\"\n",
    "## Germs everywhere! An introduction to microbiome bioinformatics!\n",
    "## Bioinformatics, Utah Valley University, Feb 2020"
   ]
  },
  {
   "cell_type": "markdown",
   "metadata": {},
   "source": [
    "This tutorial is an edited version of a [Qiime2 tutorial](https://docs.qiime2.org/2019.10/tutorials/pd-mice/), this version was create to be used in [Cyverse Discovery Environment](https://de.cyverse.org/de/) using this Jupyter Notebook and Qiime2 2018-11.\n",
    "\n",
    "This tutorial will demonstrate a “typical” QIIME 2 analysis of 16S rRNA gene amplicon data, using a set of fecal samples from humanized mice. The original study, [Sampson et al, 2016](https://www.cell.com/cell/fulltext/S0092-8674(16)31590-2?_returnURL=https%3A%2F%2Flinkinghub.elsevier.com%2Fretrieve%2Fpii%2FS0092867416315902%3Fshowall%3Dtrue), was designed to determine whether the fecal microbiome contributed to the development of Parkinson’s Disease (PD). Several observation studies showed a difference in the microbiome between PD patients and controls, although the organisms identified across studies were not consistent. However, this was sufficient evidence to suggest that there might be a relationship between PD and the fecal microbiome.\n",
    "\n",
    "To determine whether that relationship was incidental or actually disease associated, a second study was needed. A human cohort study was not feasible; the disease only affects about 1% of the population over 60 years old, PD takes a long time to develop and to be diagnosed, and it would be difficult to determine when to collect the samples. Therefore, a gnotobiotic mouse study was utilized to evaluate the role of the microbiome in the development of PD symptoms. Feces were collected from six donors with Parkinson’s disease and six age- and sex-matched neurologically health controls, and then transplanted into mice who were either predisposed to developing Parkinson’s disease due to a mutation (“aSyn”) or resistant wild type mice (“BDF1”). Mice from different donors were kept in separate cages, but mice from different genetic backgrounds were co-housed. The mice were followed for 7 weeks to see if they developed symptoms of Parkinson’s disease.\n",
    "\n",
    "We’ll look a subset of data from two human donors (one healthy and one with PD) whose samples were each transplanted into three separate cages of mice from the susceptible genotype. For this tutorial, a subset of the metadata has been prepared, and the sequences have been subsampled to approximately 5000 sequences per sample to allow the tutorial to run in a short time. The sequences for the full study are accessible at EBI with accession PRJEB17694; processed tables from the full study can be downloaded from the Qiita database from study 10483."
   ]
  },
  {
   "cell_type": "markdown",
   "metadata": {},
   "source": [
    "## THIS PART OF THE CODE ENABLES THE PROPER RUN OF QIIME2"
   ]
  },
  {
   "cell_type": "markdown",
   "metadata": {},
   "source": [
    "To be able to generate visualization files we need to enable matplotlib:"
   ]
  },
  {
   "cell_type": "code",
   "execution_count": 14,
   "metadata": {},
   "outputs": [],
   "source": [
    "echo \"backend: Agg\" > ~/.config/matplotlib/matplotlibrc"
   ]
  },
  {
   "cell_type": "markdown",
   "metadata": {},
   "source": [
    "Create temp directory for R to be able to run DADA2:"
   ]
  },
  {
   "cell_type": "code",
   "execution_count": 15,
   "metadata": {},
   "outputs": [],
   "source": [
    "mkdir -p $HOME/tmp\n",
    "export TMP=\"$HOME/tmp\"\n",
    "export TMPDIR=\"$HOME/tmp\"\n",
    "export TEMP=\"$HOME/tmp\""
   ]
  },
  {
   "cell_type": "markdown",
   "metadata": {},
   "source": [
    "## UNIX COMMANDS"
   ]
  },
  {
   "cell_type": "markdown",
   "metadata": {},
   "source": [
    "Let's start, by running the coding line below and create a new directory `mkdir` to store your outputs"
   ]
  },
  {
   "cell_type": "code",
   "execution_count": null,
   "metadata": {},
   "outputs": [],
   "source": [
    "mkdir PD_Mouse_output"
   ]
  },
  {
   "cell_type": "markdown",
   "metadata": {},
   "source": [
    "Let's use a common Unix command `ls` to list the content of the current folder"
   ]
  },
  {
   "cell_type": "code",
   "execution_count": null,
   "metadata": {},
   "outputs": [],
   "source": [
    "ls"
   ]
  },
  {
   "cell_type": "markdown",
   "metadata": {},
   "source": [
    "## IMPORT AND TRAIN REFERENCE DATABASE"
   ]
  },
  {
   "cell_type": "markdown",
   "metadata": {},
   "source": [
    "In this project we are going to use the 99_otus (99% identity) GreenGenes database v13.  \n",
    "The code line below will import the 99% **Sequences** from the gg_13_8 folder\n"
   ]
  },
  {
   "cell_type": "code",
   "execution_count": null,
   "metadata": {},
   "outputs": [],
   "source": [
    "qiime tools import \\\n",
    "--type 'FeatureData[Sequence]' \\\n",
    "--input-path gg_13_8_otus/rep_set/99_otus.fasta \\\n",
    "--output-path PD_Mouse_output/99_otus.qza"
   ]
  },
  {
   "cell_type": "markdown",
   "metadata": {},
   "source": [
    "The code line below will import the 99% **Taxonomy** from the gg_13_8 folder"
   ]
  },
  {
   "cell_type": "code",
   "execution_count": null,
   "metadata": {},
   "outputs": [],
   "source": [
    "qiime tools import \\\n",
    "--type 'FeatureData[Taxonomy]' \\\n",
    "--input-format HeaderlessTSVTaxonomyFormat \\\n",
    "--input-path gg_13_8_otus/taxonomy/99_otu_taxonomy.txt \\\n",
    "--output-path PD_Mouse_output/99_otu_taxonomy.qza"
   ]
  },
  {
   "cell_type": "markdown",
   "metadata": {},
   "source": [
    "We need to use Qiime2 to train using naive Bayes machine-learning classifier set trimmed to 250 bp of the V4 hypervariable region. Fill the code line below to **extract** the reads based in primers: 515-F -> GTGCCAGCMGCCGCGGTAA and 806R -> GGACTACHVHHHTWTCTAAT. Be patient, this step takes time."
   ]
  },
  {
   "cell_type": "code",
   "execution_count": 29,
   "metadata": {},
   "outputs": [
    {
     "name": "stdout",
     "output_type": "stream",
     "text": [
      "\u001b[32mSaved FeatureData[Sequence] to: 99_otus_trimmed.qza\u001b[0m\n"
     ]
    }
   ],
   "source": [
    "qiime feature-classifier extract-reads \\\n",
    "--i-sequences 99_otus.qza \\\n",
    "--p-f-primer CCTACGGGNGGCWGCAG \\\n",
    "--p-r-primer GACTACHVGGGTATCTAATCC \\\n",
    "--o-reads 99_otus_trimmed.qza"
   ]
  },
  {
   "cell_type": "markdown",
   "metadata": {},
   "source": [
    "The code line below will **train** the classifier using Naive Bayes.\n",
    "This step takes 10 minutes"
   ]
  },
  {
   "cell_type": "code",
   "execution_count": null,
   "metadata": {},
   "outputs": [],
   "source": [
    "qiime feature-classifier fit-classifier-naive-bayes \\\n",
    "--i-reference-reads PD_Mouse_output/99_otus_trimmed.qza \\\n",
    "--i-reference-taxonomy PD_Mouse_output/99_otu_taxonomy.qza \\\n",
    "--o-classifier PD_Mouse_output/99_otus_classifier.qza"
   ]
  },
  {
   "cell_type": "markdown",
   "metadata": {},
   "source": [
    "## IMPORT THE SEQUENCING DATA "
   ]
  },
  {
   "cell_type": "markdown",
   "metadata": {},
   "source": [
    "Our samples were amplified using the 515f-806r primers and sequenced on an Illumina MiSeq with a 2x150bp kit. The hypervariable region covered by the primers we used is 290bp long, so with 150bp reads our sequences will be slightly too short to be able to do paired-end analysis downstream. Therefore, we’re going to work with single-end sequences. We will work with a version of the samples which have already been demultiplexed."
   ]
  },
  {
   "cell_type": "markdown",
   "metadata": {},
   "source": [
    "The first step to import your data is to have your manifest file ready.  \n",
    "Within the working directory, you can see a manifest file, double click on it and you will see a new tab.  \n",
    "1. As you can see the absolute path to the fastqs folder that contains the data is not correct. So please replace \"ABSOLUTE-PATH-TO-FASTQS-FOLDER\" to the actual absolute path to the folde (Hint: it should start with /home).  \n",
    "2. This manifest file is also missing the orientation of the sequences. What reads are we importing, Read 1 or Read 2?  Please add after the absolute path a comma and the orientation (forward or reverse) of the reads.  \n",
    "3. Once the file is updated, please click file, and save file.\n"
   ]
  },
  {
   "cell_type": "markdown",
   "metadata": {},
   "source": [
    "Use the coding line below to import your Single End Data FASTQ data.  \n",
    "Remember, you can type any of the following to view formats and types:  \n",
    "qiime tools import --show-importable-types  \n",
    "or  \n",
    "qiime tools import --show-importable-formats"
   ]
  },
  {
   "cell_type": "code",
   "execution_count": null,
   "metadata": {},
   "outputs": [],
   "source": [
    "qiime tools import \\\n",
    "--type 'SampleData[SequencesWithQuality]' \\\n",
    "--input-path manifest \\\n",
    "--output-path PD_Mouse_output/ParkMouse.qza \\"
   ]
  },
  {
   "cell_type": "markdown",
   "metadata": {},
   "source": [
    "The code line below will create a **visualization** .qzv file of your data"
   ]
  },
  {
   "cell_type": "code",
   "execution_count": null,
   "metadata": {},
   "outputs": [],
   "source": [
    "qiime demux summarize \\\n",
    "--i-data PD_Mouse_output/ParkMouse.qza \\\n",
    "--output-dir PD_Mouse_output/ParkMouse.qzv"
   ]
  },
  {
   "cell_type": "markdown",
   "metadata": {},
   "source": [
    ">## ***QUIZ TIME***  \n",
    "Quick Questions for you:\n",
    "1. After demultiplexing, which sample has the lowest sequencing depth?\n",
    "2. What is the median sequence length?\n",
    "3. What is the median quality score at position 125?"
   ]
  },
  {
   "cell_type": "markdown",
   "metadata": {},
   "source": [
    "## DENOISE/DEREPLICATE THE DATA"
   ]
  },
  {
   "cell_type": "markdown",
   "metadata": {},
   "source": [
    "In this project, we’ll denoise with DADA2 (using single-end sequences).  \n",
    "The qiime dada2 denoise-single method requires us to set the --p-trunc-len parameter.  \n",
    "This controls the length of the sequences and should be selected based on a drop in quality scores. In our dataset, the quality scores are relatively evenly distributed along the sequencing run, so we’ll use the full **150** bp sequences. However, the selection of the trim length is a relatively subjective measurement and relies on the decision making capacity of the analyst."
   ]
  },
  {
   "cell_type": "code",
   "execution_count": null,
   "metadata": {},
   "outputs": [],
   "source": [
    "qiime dada2 denoise-single \\\n",
    "--i-demultiplexed-seqs PD_Mouse_output/ParkMouse.qza \\\n",
    "--p-trim-left 0 \\\n",
    "--p-trunc-len 0 \\\n",
    "--output-dir Mouse_Denoise_output/dada2/ \\\n",
    "--o-denoising-stats Mouse_Denoise_output/denoising-stats.qza"
   ]
  },
  {
   "cell_type": "markdown",
   "metadata": {},
   "source": [
    "## UNDERSTANDING OUR DATA"
   ]
  },
  {
   "cell_type": "markdown",
   "metadata": {},
   "source": [
    "Let's give a look to our metadata file to understand a little bit better our data.  \n",
    "The code line below will display the first 10 lines of the metadata_map_file file:"
   ]
  },
  {
   "cell_type": "code",
   "execution_count": 1,
   "metadata": {},
   "outputs": [
    {
     "ename": "SyntaxError",
     "evalue": "invalid syntax (<ipython-input-1-101ce5afb9f8>, line 1)",
     "output_type": "error",
     "traceback": [
      "\u001b[0;36m  File \u001b[0;32m\"<ipython-input-1-101ce5afb9f8>\"\u001b[0;36m, line \u001b[0;32m1\u001b[0m\n\u001b[0;31m    head metadata_map_file.tsv\u001b[0m\n\u001b[0m                         ^\u001b[0m\n\u001b[0;31mSyntaxError\u001b[0m\u001b[0;31m:\u001b[0m invalid syntax\n"
     ]
    }
   ],
   "source": [
    "head metadata_map_file.tsv"
   ]
  },
  {
   "cell_type": "markdown",
   "metadata": {},
   "source": [
    "Run the following code, and download the .qzv.  \n",
    "Visit https://view.qiime2.org/ and drag your output"
   ]
  },
  {
   "cell_type": "code",
   "execution_count": 21,
   "metadata": {},
   "outputs": [
    {
     "name": "stdout",
     "output_type": "stream",
     "text": [
      "\u001b[32mSaved Visualization to: metadata.qzv\u001b[0m\n"
     ]
    }
   ],
   "source": [
    "qiime metadata tabulate \\\n",
    "  --m-input-file metadata_map_file.tsv \\\n",
    "  --o-visualization metadata.qzv"
   ]
  },
  {
   "cell_type": "markdown",
   "metadata": {},
   "source": [
    ">## ***QUIZ TIME***  \n",
    "Quick Questions for you:\n",
    "4. What does the **metadata** plugin do when using the option **tabulate**?\n",
    "5. What is the shortest and longest period of days post transplant? "
   ]
  },
  {
   "cell_type": "markdown",
   "metadata": {},
   "source": [
    "Run the following code, and download the .qzv.  \n",
    "Visit https://view.qiime2.org/ and drag your output"
   ]
  },
  {
   "cell_type": "code",
   "execution_count": 39,
   "metadata": {},
   "outputs": [
    {
     "name": "stdout",
     "output_type": "stream",
     "text": [
      "\u001b[32mSaved Visualization to: dada2/denoising-stats.qzv\u001b[0m\n"
     ]
    }
   ],
   "source": [
    "qiime metadata tabulate \\\n",
    "  --m-input-file dada2/denoising-stats.qza \\\n",
    "  --o-visualization dada2/denoising-stats.qzv"
   ]
  },
  {
   "cell_type": "markdown",
   "metadata": {},
   "source": [
    "The code below will create a feature table (table.qzv) from our DADA output using the metadata file provided. \n",
    "Visit https://view.qiime2.org/ and drag your output"
   ]
  },
  {
   "cell_type": "code",
   "execution_count": null,
   "metadata": {},
   "outputs": [],
   "source": [
    "qiime metadata tabulate \\\n",
    "--m-input-file metadata_map_file.tsv \\\n",
    "--o-visualization metadata.qzv"
   ]
  },
  {
   "cell_type": "markdown",
   "metadata": {},
   "source": [
    ">## ***QUIZ TIME***  \n",
    "Quick Questions for you:\n",
    "6. How many total features remain after denoising?\n",
    "7. Which sample has the highest total count of features? How many sequences did that sample have prior to DADA2 denoising?\n",
    "8. How many samples have fewer than 4250 total features?\n",
    "9. Which features are observed in at least 46 samples?\n",
    "10. Which sample has the fewest features? How many does it have?\n",
    "11. If we set a sampling depth of 4,250 sequences, how many samples reach this depth?"
   ]
  },
  {
   "cell_type": "markdown",
   "metadata": {},
   "source": [
    "## TAXONOMY CLASSIFY THE DATA"
   ]
  },
  {
   "cell_type": "markdown",
   "metadata": {},
   "source": [
    "We are ready to match our sequences with taxonomic classification using the **feature-classifier** and **sklearn** and the classifier trained in the step 3."
   ]
  },
  {
   "cell_type": "code",
   "execution_count": null,
   "metadata": {},
   "outputs": [],
   "source": [
    "qiime feature-classifier classify-sklearn \\\n",
    "--i-classifier PD_Mouse_output/99_otus_classifier.qza \\\n",
    "--i-reads Mouse_Denoise_output/dada2/representative_sequences.qza \\\n",
    "--o-classification Mouse_Denoise_output/mouse_classified.qza"
   ]
  },
  {
   "cell_type": "markdown",
   "metadata": {},
   "source": [
    "Now, let’s review the taxonomy associated with the sequences using the qiime metadata tabulate method. Please replace asteriscks with the name of your classified artifact (.qza) as name of your output in the line below"
   ]
  },
  {
   "cell_type": "code",
   "execution_count": 34,
   "metadata": {},
   "outputs": [
    {
     "name": "stdout",
     "output_type": "stream",
     "text": [
      "\u001b[32mSaved Visualization to: mouse_classsified.qzv\u001b[0m\n"
     ]
    }
   ],
   "source": [
    "qiime metadata tabulate \\\n",
    "  --m-input-file ***.qza \\\n",
    "  --o-visualization ***.qzv"
   ]
  },
  {
   "cell_type": "markdown",
   "metadata": {},
   "source": [
    "Visit https://view.qiime2.org/ and drag your output."
   ]
  },
  {
   "cell_type": "markdown",
   "metadata": {},
   "source": [
    ">## ***QUIZ TIME***  \n",
    "Quick Questions for you:\n",
    "12. Find the feature, 07f183edd4e4d8aef1dcb2ab24dd7745. What is the taxonomic classification of this sequence? What’s the confidence for the assignment?\n",
    "13. How many features are classified as g__Akkermansia?"
   ]
  },
  {
   "cell_type": "markdown",
   "metadata": {},
   "source": [
    "## FILTERING AND VISUALIZING THE DATA"
   ]
  },
  {
   "cell_type": "markdown",
   "metadata": {},
   "source": [
    "We are going to use the **barplot** plugin and create a visualization *artifacts* (.qzv)  \n",
    "Before doing this, we will first filter out any samples with fewer features than our rarefaction threshold (2000). We can filter samples using the q2-feature-table plugin with the filter-samples method. This lets us filter our table based on a variety of criteria such as the number of counts (frequency, --p-min-frequency and --p-max-frequency), number of features (--p-min-features and --p-max-features), or sample metadata (--p-where). Make sure the path and name of the table from dada2 is correct in the code below."
   ]
  },
  {
   "cell_type": "code",
   "execution_count": 32,
   "metadata": {},
   "outputs": [
    {
     "name": "stdout",
     "output_type": "stream",
     "text": [
      "\u001b[32mSaved FeatureTable[Frequency] to: dada2/table_2k.qza\u001b[0m\n"
     ]
    }
   ],
   "source": [
    "qiime feature-table filter-samples \\\n",
    "  --i-table dada2/table.qza \\\n",
    "  --p-min-frequency 2000 \\\n",
    "  --o-filtered-table dada2/table_2k.qza"
   ]
  },
  {
   "cell_type": "markdown",
   "metadata": {},
   "source": [
    "Now, let's create a barplot from the **new filtered** taxonomic classifiied file."
   ]
  },
  {
   "cell_type": "code",
   "execution_count": null,
   "metadata": {},
   "outputs": [],
   "source": [
    "qiime taxa barplot \\\n",
    "--i-table Mouse_Denoise_output/dada2/table.qza \\\n",
    "--i-taxonomy Mouse_Denoise_output/dada2/mouse_classified.qza \\\n",
    "--m-metadata-file metadata_map_file.tsv \\\n",
    "--output-dir Mouse_Denoise_output/barplot"
   ]
  },
  {
   "cell_type": "markdown",
   "metadata": {},
   "source": [
    "Download the **.qzv** file  \n",
    "Visit https://view.qiime2.org/ and drag your output"
   ]
  },
  {
   "cell_type": "markdown",
   "metadata": {},
   "source": [
    ">## ***QUIZ TIME***  \n",
    "Quick Questions for you:  \n",
    "14. Visualize the data at level 2 (phylum level) and sort the samples by donor. Can you observe a consistent difference in phylum between the donors? "
   ]
  },
  {
   "cell_type": "markdown",
   "metadata": {},
   "source": [
    "## PHYLOGENETIC TREE"
   ]
  },
  {
   "cell_type": "markdown",
   "metadata": {},
   "source": [
    "In the class we reviewed how to build phylogenetic trees based on alignments. In the Atacama Tutorial we checked the code to run a MAFFT alignment in Qiime2. Here,we’re going to create a **fragment insertion** tree using the *q2-fragment-insertion* plugin. The authors of the fragment insertion plugin suggest that it can outperform traditional alignment based methods based on short Illumina reads by alignment against a reference tree built out of larger sequences. Our command, qiime fragment-insertion sepp will use the representative sequences (a FeatureData[Sequence] artifact) we generated during denoising to create a phylogenetic tree where the sequences have been inserted into the greengenes 13_8 99% identity reference tree backbone."
   ]
  },
  {
   "cell_type": "markdown",
   "metadata": {},
   "source": [
    "In this tutorial, again, I am presenting to you the code that was run to make the tree (output is in the main folder as tree.qza file), but we are not running here. Also, this code was running Qiime2 version 2019 and we are using version 2018, so even if we try the old version cannot run it."
   ]
  },
  {
   "cell_type": "markdown",
   "metadata": {},
   "source": [
    ">qiime fragment-insertion sepp \\  \n",
    ">  --i-representative-sequences dada2/representative_sequences.qza \\  \n",
    ">  --i-reference-database sepp-refs-gg-13-8.qza \\  \n",
    ">  --o-tree tree.qza \\  \n",
    ">  --o-placements tree_placements.qza \\  \n",
    ">  --p-threads 1  "
   ]
  },
  {
   "cell_type": "markdown",
   "metadata": {},
   "source": [
    "Let's **export** the tree.qza file to a directory containing a .nwk file"
   ]
  },
  {
   "cell_type": "code",
   "execution_count": null,
   "metadata": {},
   "outputs": [],
   "source": [
    "qiime tools export \\\n",
    "--input-path tree.qza \\\n",
    "--output-path Mouse_Denoise_output/exported-tree"
   ]
  },
  {
   "cell_type": "markdown",
   "metadata": {},
   "source": [
    "We can use an interactive visualization tool as: https://itol.embl.de/upload.cgi to open the tree"
   ]
  },
  {
   "cell_type": "markdown",
   "metadata": {},
   "source": [
    "## ALPHA DIVERSITY RAREFACTION"
   ]
  },
  {
   "cell_type": "markdown",
   "metadata": {},
   "source": [
    "We now have a feature table (observation matrix) of sequence variants in each sample, and a phylogenetic tree representing those variants, so are almost ready to perform various analyses of microbial diversity. However, first we must normalize our data to account for uneven sequencing depth between samples.\n",
    "\n",
    "Although sequencing depth in a microbiome sample does not directly relate to the original biomass in a community, the relative sequencing depth has a large impact on observed communities (Weiss et al, 2017). Therefore, for most diversity metrics, a normalization approach is needed.\n",
    "\n",
    "Current best practices suggest the use of rarefaction, a normalization via sub-sampling without replacement. Rarefaction occurs in two steps: first, samples which are below the rarefaction depth are filtered out of the feature table. Then, all remaining samples are subsampled without replacement to get to the specified sequencing depth. It’s both important and sometimes challenging to select a rarefaction depth for diversity analyses. Several strategies exist to figure out an appropriate rarefaction depth - we will primarily consider alpha rarefaction in this tutorial, because it is a data-driven way to approach the problem.\n",
    "\n",
    "We’ll use qiime diversity alpha-rarefaction to subsample the table at different depths (between --p-min-depth and --p-max-depth) and calculate the alpha diversity using one or more metrics (--p-metrics). We want to set a maximum depth close to the maximum number of sequences. We also know from the quiz that if we look at a sequencing depth around 4250 sequences per sample, we’ll be looking at information from 34 samples. So, let’s set this as our maximum sequencing depth.\n",
    "\n",
    "At each sampling depth, 10 rarefied tables are usually calculated to provide an error estimate, although this can be adjusted using the --p-iterations parameter. We can check and see if there is a relationship between the alpha diversity and metadata by specifying the metadata file for the --m-metadata-file parameter.ASVASVAD"
   ]
  },
  {
   "cell_type": "code",
   "execution_count": 41,
   "metadata": {},
   "outputs": [
    {
     "name": "stdout",
     "output_type": "stream",
     "text": [
      "\u001b[32mSaved Visualization to: alpha_rarefaction_curves_2k.qzv\u001b[0m\n"
     ]
    }
   ],
   "source": [
    "qiime diversity alpha-rarefaction \\\n",
    "  --i-table dada2/table_2k.qza \\\n",
    "  --m-metadata-file metadata_map_file.tsv \\\n",
    "  --o-visualization alpha_rarefaction_curves_2k.qzv \\\n",
    "  --p-min-depth 10 \\\n",
    "  --p-max-depth 4250"
   ]
  },
  {
   "cell_type": "markdown",
   "metadata": {},
   "source": [
    ">## ***QUIZ TIME***  \n",
    "Quick Questions for you:\n",
    "15. Are all metadata columns represented in the visualization? If not, which columns were excluded?  \n",
    "16. Which metric shows saturation and stabilization of the diversity?  \n",
    "17. Which mouse genetic background (genotype) has higher diversity, based on the curve? Which has shallower sampling depth?"
   ]
  },
  {
   "cell_type": "markdown",
   "metadata": {},
   "source": [
    "### Alpha Diversity"
   ]
  },
  {
   "cell_type": "markdown",
   "metadata": {},
   "source": [
    "Alpha diversity asks whether the distribution of features within a sample (or groups of samples) differs between different conditions. The comparison makes no assumptions about the features that are shared between samples; two samples can have the same alpha diversity and not share any features. The rarefied alpha diversity produced by q2-diversity is a univariate, continuous value and can be tested using common non-parametric statistical tests."
   ]
  },
  {
   "cell_type": "markdown",
   "metadata": {},
   "source": [
    "We’ll start by using the qiime diversity core-metrics-phylogenetic method, which ratifies the input feature table, calculates several commonly used alpha- and beta-diversity metrics, and produces principal coordinate analysis (PCoA) visualizations in Emperor for the beta diversity metrics. By default, the metrics computed are:\n",
    "\n",
    "**Alpha Diversity**\n",
    ">Shannon’s diversity index  \n",
    ">Observed OTUs  \n",
    ">Faith’s phylogenetic diversity  \n",
    ">Pielou’s evenness  \n",
    "  \n",
    "**Beta Diversity**\n",
    ">Jaccard distance  \n",
    ">Bray-Curtis distance  \n",
    ">Unweighted UniFrac distance  \n",
    ">Weighted UniFrac distance  "
   ]
  },
  {
   "cell_type": "markdown",
   "metadata": {},
   "source": [
    "The following code takes 10 minutes to run"
   ]
  },
  {
   "cell_type": "code",
   "execution_count": 42,
   "metadata": {},
   "outputs": [
    {
     "name": "stdout",
     "output_type": "stream",
     "text": [
      "\u001b[32mSaved FeatureTable[Frequency] to: core-metrics-results/rarefied_table.qza\u001b[0m\n",
      "\u001b[32mSaved SampleData[AlphaDiversity] % Properties(['phylogenetic']) to: core-metrics-results/faith_pd_vector.qza\u001b[0m\n",
      "\u001b[32mSaved SampleData[AlphaDiversity] to: core-metrics-results/observed_otus_vector.qza\u001b[0m\n",
      "\u001b[32mSaved SampleData[AlphaDiversity] to: core-metrics-results/shannon_vector.qza\u001b[0m\n",
      "\u001b[32mSaved SampleData[AlphaDiversity] to: core-metrics-results/evenness_vector.qza\u001b[0m\n",
      "\u001b[32mSaved DistanceMatrix % Properties(['phylogenetic']) to: core-metrics-results/unweighted_unifrac_distance_matrix.qza\u001b[0m\n",
      "\u001b[32mSaved DistanceMatrix % Properties(['phylogenetic']) to: core-metrics-results/weighted_unifrac_distance_matrix.qza\u001b[0m\n",
      "\u001b[32mSaved DistanceMatrix to: core-metrics-results/jaccard_distance_matrix.qza\u001b[0m\n",
      "\u001b[32mSaved DistanceMatrix to: core-metrics-results/bray_curtis_distance_matrix.qza\u001b[0m\n",
      "\u001b[32mSaved PCoAResults to: core-metrics-results/unweighted_unifrac_pcoa_results.qza\u001b[0m\n",
      "\u001b[32mSaved PCoAResults to: core-metrics-results/weighted_unifrac_pcoa_results.qza\u001b[0m\n",
      "\u001b[32mSaved PCoAResults to: core-metrics-results/jaccard_pcoa_results.qza\u001b[0m\n",
      "\u001b[32mSaved PCoAResults to: core-metrics-results/bray_curtis_pcoa_results.qza\u001b[0m\n",
      "\u001b[32mSaved Visualization to: core-metrics-results/unweighted_unifrac_emperor.qzv\u001b[0m\n",
      "\u001b[32mSaved Visualization to: core-metrics-results/weighted_unifrac_emperor.qzv\u001b[0m\n",
      "\u001b[32mSaved Visualization to: core-metrics-results/jaccard_emperor.qzv\u001b[0m\n",
      "\u001b[32mSaved Visualization to: core-metrics-results/bray_curtis_emperor.qzv\u001b[0m\n"
     ]
    }
   ],
   "source": [
    "qiime diversity core-metrics-phylogenetic \\\n",
    "  --i-table dada2/table_2k.qza \\\n",
    "  --i-phylogeny tree.qza \\\n",
    "  --m-metadata-file metadata_map_file.tsv \\\n",
    "  --p-sampling-depth 2000 \\\n",
    "  --output-dir core-metrics-results"
   ]
  },
  {
   "cell_type": "markdown",
   "metadata": {},
   "source": [
    "Let's give a closer look to the eveness_vector"
   ]
  },
  {
   "cell_type": "code",
   "execution_count": 44,
   "metadata": {},
   "outputs": [
    {
     "name": "stdout",
     "output_type": "stream",
     "text": [
      "\u001b[32mSaved Visualization to: core-metrics-results/evenness_statistics.qzv\u001b[0m\n"
     ]
    }
   ],
   "source": [
    " qiime diversity alpha-group-significance \\\n",
    " --i-alpha-diversity core-metrics-results/evenness_vector.qza \\\n",
    " --m-metadata-file metadata_map_file.tsv \\\n",
    " --o-visualization core-metrics-results/evenness_statistics.qzv"
   ]
  },
  {
   "cell_type": "markdown",
   "metadata": {},
   "source": [
    "Download the **.qzv** file  \n",
    "Visit https://view.qiime2.org/ and drag your output"
   ]
  },
  {
   "cell_type": "markdown",
   "metadata": {},
   "source": [
    ">## ***QUIZ TIME***  \n",
    "Quick Questions for you:  \n",
    "18. What is the p-value for the differences of the eveness based in genotype?\n",
    "19. What is the p-value for the differences of the eveness based in donor? What can you conclude?"
   ]
  },
  {
   "cell_type": "markdown",
   "metadata": {},
   "source": [
    "## DIFFERENTIAL ABUNDANCE TEST WITH ANCOM\n",
    " QIIME2 uses ANCOM (https://www.ncbi.nlm.nih.gov/pmc/articles/PMC4450248/) to identify differentially abundant taxa"
   ]
  },
  {
   "cell_type": "markdown",
   "metadata": {},
   "source": [
    "Lets use the plugin **composition** to add one count to every value (pseudocount)  \n",
    "This is done because ANCOM is a log-based method (log0=undefined)"
   ]
  },
  {
   "cell_type": "code",
   "execution_count": 45,
   "metadata": {},
   "outputs": [
    {
     "name": "stdout",
     "output_type": "stream",
     "text": [
      "\u001b[32mSaved FeatureTable[Composition] to: dada2/comp-table.qza\u001b[0m\n"
     ]
    }
   ],
   "source": [
    "qiime composition add-pseudocount \\\n",
    "--i-table dada2/table_2k.qza \\\n",
    "--o-composition-table dada2/comp-table.qza"
   ]
  },
  {
   "cell_type": "markdown",
   "metadata": {},
   "source": [
    "Apply Analysis of Composition of Microbiomes (ANCOM) to identify features that are differentially abundant across groups  \n",
    "In this case we want to test differential abundance between donors."
   ]
  },
  {
   "cell_type": "code",
   "execution_count": 48,
   "metadata": {},
   "outputs": [
    {
     "name": "stdout",
     "output_type": "stream",
     "text": [
      "\u001b[32mSaved Visualization to: ancom-donor.qzv\u001b[0m\n"
     ]
    }
   ],
   "source": [
    "qiime composition ancom \\\n",
    "--i-table dada2/comp-table.qza \\\n",
    "--m-metadata-file metadata_map_file.tsv \\\n",
    "--m-metadata-column donor \\\n",
    "--o-visualization ancom-donor.qzv"
   ]
  },
  {
   "cell_type": "markdown",
   "metadata": {},
   "source": [
    "Let's repeat the analysis but now to test differential abundance between genotypes. Please fill code line below"
   ]
  },
  {
   "cell_type": "code",
   "execution_count": 47,
   "metadata": {},
   "outputs": [
    {
     "name": "stdout",
     "output_type": "stream",
     "text": [
      "\u001b[32mSaved Visualization to: ancom-genotype.qzv\u001b[0m\n"
     ]
    }
   ],
   "source": [
    "qiime composition ancom \\\n",
    "--i-table dada2/comp-table.qza \\\n",
    "--m-metadata-file metadata_map_file.tsv \\\n",
    "--m-metadata-column genotype \\\n",
    "--o-visualization ancom-genotype.qzv"
   ]
  },
  {
   "cell_type": "markdown",
   "metadata": {},
   "source": [
    "Download and visualize both, donor and genotype qzv files"
   ]
  },
  {
   "cell_type": "markdown",
   "metadata": {},
   "source": [
    ">## ***QUIZ TIME***  \n",
    "Quick Questions for you:  \n",
    "20. What is the number of features with a statistical W for each, genotypes and donors?\n",
    "21. What is the main variable that explains the difference on composition and diversity in the microbial samples of mice with transplanted microbiomes form healthy and PD donors?\n",
    "22. Use the visualization of the taxonomy classified table and search sequence identifiers for the significantly different features by genotype. What genera do they belong to?"
   ]
  },
  {
   "cell_type": "markdown",
   "metadata": {},
   "source": [
    "## THIS IS THE END  \n",
    "  \n",
    "Thank you very much!  \n",
    "Natalia J. Bayona-Vásquez, Ph.D."
   ]
  },
  {
   "cell_type": "markdown",
   "metadata": {},
   "source": []
  }
 ],
 "metadata": {
  "kernelspec": {
   "display_name": "Python 2",
   "language": "python",
   "name": "python2"
  },
  "language_info": {
   "codemirror_mode": {
    "name": "ipython",
    "version": 2
   },
   "file_extension": ".py",
   "mimetype": "text/x-python",
   "name": "python",
   "nbconvert_exporter": "python",
   "pygments_lexer": "ipython2",
   "version": "2.7.16"
  }
 },
 "nbformat": 4,
 "nbformat_minor": 2
}
